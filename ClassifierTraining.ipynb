{
  "cells": [
    {
      "cell_type": "code",
      "source": [
        "from google.colab import drive\n",
        "drive.mount(\"/content/gdrive\")"
      ],
      "metadata": {
        "colab": {
          "base_uri": "https://localhost:8080/"
        },
        "id": "b1QhGOkzUQ_s",
        "outputId": "94ff29d6-1a28-4b79-f192-64040cea502d"
      },
      "id": "b1QhGOkzUQ_s",
      "execution_count": null,
      "outputs": [
        {
          "output_type": "stream",
          "name": "stdout",
          "text": [
            "Mounted at /content/gdrive\n"
          ]
        }
      ]
    },
    {
      "cell_type": "code",
      "execution_count": null,
      "id": "46215683",
      "metadata": {
        "id": "46215683"
      },
      "outputs": [],
      "source": [
        "import pandas as pd\n",
        "import numpy as np\n",
        "from collections import Counter\n",
        "from scipy.stats import randint\n",
        "from joblib import load, dump\n",
        "import joblib\n",
        "\n",
        "from sklearn.model_selection import train_test_split\n",
        "from sklearn.model_selection import GridSearchCV\n",
        "from sklearn.model_selection import RandomizedSearchCV\n",
        "\n",
        "from sklearn.tree import DecisionTreeClassifier\n",
        "from sklearn.ensemble import RandomForestClassifier\n",
        "from sklearn.ensemble import GradientBoostingClassifier\n",
        "from sklearn.naive_bayes import GaussianNB\n",
        "from sklearn.linear_model import LogisticRegression\n",
        "\n",
        "from sklearn.metrics import classification_report, precision_score, recall_score\n",
        "from sklearn.metrics import accuracy_score, confusion_matrix, f1_score"
      ]
    },
    {
      "cell_type": "markdown",
      "id": "844c72d9-b04d-46de-ae1d-a152e860e4c6",
      "metadata": {
        "id": "844c72d9-b04d-46de-ae1d-a152e860e4c6"
      },
      "source": [
        "## Dataset Prep"
      ]
    },
    {
      "cell_type": "code",
      "execution_count": null,
      "id": "4c1884b5",
      "metadata": {
        "id": "4c1884b5",
        "outputId": "f6bba1a2-e658-47ca-f6c7-39e0dbc9ad2e",
        "colab": {
          "base_uri": "https://localhost:8080/",
          "height": 363
        }
      },
      "outputs": [
        {
          "output_type": "execute_result",
          "data": {
            "text/html": [
              "\n",
              "  <div id=\"df-f0e7b2c7-944f-4415-afb0-9671ae310b34\">\n",
              "    <div class=\"colab-df-container\">\n",
              "      <div>\n",
              "<style scoped>\n",
              "    .dataframe tbody tr th:only-of-type {\n",
              "        vertical-align: middle;\n",
              "    }\n",
              "\n",
              "    .dataframe tbody tr th {\n",
              "        vertical-align: top;\n",
              "    }\n",
              "\n",
              "    .dataframe thead th {\n",
              "        text-align: right;\n",
              "    }\n",
              "</style>\n",
              "<table border=\"1\" class=\"dataframe\">\n",
              "  <thead>\n",
              "    <tr style=\"text-align: right;\">\n",
              "      <th></th>\n",
              "      <th>Domain</th>\n",
              "      <th>Label</th>\n",
              "      <th>DGA Family</th>\n",
              "      <th>Length</th>\n",
              "      <th>Relative Entropy</th>\n",
              "      <th>Numerical Percentage</th>\n",
              "      <th>Max Consecutive Consonants</th>\n",
              "      <th>Max Consecutive Vowels</th>\n",
              "      <th>Vowel Count</th>\n",
              "      <th>Vowel Rate</th>\n",
              "    </tr>\n",
              "  </thead>\n",
              "  <tbody>\n",
              "    <tr>\n",
              "      <th>488740</th>\n",
              "      <td>christophermillicent</td>\n",
              "      <td>0</td>\n",
              "      <td>suppobox_3</td>\n",
              "      <td>20</td>\n",
              "      <td>0.932421</td>\n",
              "      <td>0.00</td>\n",
              "      <td>3</td>\n",
              "      <td>1</td>\n",
              "      <td>6</td>\n",
              "      <td>0.300000</td>\n",
              "    </tr>\n",
              "    <tr>\n",
              "      <th>349726</th>\n",
              "      <td>uksakaxibe</td>\n",
              "      <td>0</td>\n",
              "      <td>symmi</td>\n",
              "      <td>10</td>\n",
              "      <td>1.753113</td>\n",
              "      <td>0.00</td>\n",
              "      <td>2</td>\n",
              "      <td>1</td>\n",
              "      <td>5</td>\n",
              "      <td>0.500000</td>\n",
              "    </tr>\n",
              "    <tr>\n",
              "      <th>814729</th>\n",
              "      <td>grr</td>\n",
              "      <td>1</td>\n",
              "      <td>None</td>\n",
              "      <td>3</td>\n",
              "      <td>3.676597</td>\n",
              "      <td>0.00</td>\n",
              "      <td>3</td>\n",
              "      <td>0</td>\n",
              "      <td>0</td>\n",
              "      <td>0.000000</td>\n",
              "    </tr>\n",
              "    <tr>\n",
              "      <th>456369</th>\n",
              "      <td>markedasentpeopleand</td>\n",
              "      <td>0</td>\n",
              "      <td>rovnix</td>\n",
              "      <td>20</td>\n",
              "      <td>0.958229</td>\n",
              "      <td>0.00</td>\n",
              "      <td>3</td>\n",
              "      <td>2</td>\n",
              "      <td>8</td>\n",
              "      <td>0.400000</td>\n",
              "    </tr>\n",
              "    <tr>\n",
              "      <th>174238</th>\n",
              "      <td>venkrana</td>\n",
              "      <td>0</td>\n",
              "      <td>legit</td>\n",
              "      <td>8</td>\n",
              "      <td>1.925757</td>\n",
              "      <td>0.00</td>\n",
              "      <td>3</td>\n",
              "      <td>1</td>\n",
              "      <td>3</td>\n",
              "      <td>0.375000</td>\n",
              "    </tr>\n",
              "    <tr>\n",
              "      <th>537375</th>\n",
              "      <td>afn</td>\n",
              "      <td>1</td>\n",
              "      <td>None</td>\n",
              "      <td>3</td>\n",
              "      <td>2.884556</td>\n",
              "      <td>0.00</td>\n",
              "      <td>2</td>\n",
              "      <td>1</td>\n",
              "      <td>1</td>\n",
              "      <td>0.333333</td>\n",
              "    </tr>\n",
              "    <tr>\n",
              "      <th>442939</th>\n",
              "      <td>9enw5urktu7g</td>\n",
              "      <td>0</td>\n",
              "      <td>qadars</td>\n",
              "      <td>12</td>\n",
              "      <td>2.001317</td>\n",
              "      <td>0.25</td>\n",
              "      <td>3</td>\n",
              "      <td>1</td>\n",
              "      <td>3</td>\n",
              "      <td>0.250000</td>\n",
              "    </tr>\n",
              "    <tr>\n",
              "      <th>169475</th>\n",
              "      <td>sgyuyya</td>\n",
              "      <td>0</td>\n",
              "      <td>kraken_v2</td>\n",
              "      <td>7</td>\n",
              "      <td>2.809578</td>\n",
              "      <td>0.00</td>\n",
              "      <td>3</td>\n",
              "      <td>1</td>\n",
              "      <td>2</td>\n",
              "      <td>0.285714</td>\n",
              "    </tr>\n",
              "    <tr>\n",
              "      <th>779537</th>\n",
              "      <td>sparkscience</td>\n",
              "      <td>1</td>\n",
              "      <td>None</td>\n",
              "      <td>12</td>\n",
              "      <td>1.276005</td>\n",
              "      <td>0.00</td>\n",
              "      <td>4</td>\n",
              "      <td>2</td>\n",
              "      <td>4</td>\n",
              "      <td>0.333333</td>\n",
              "    </tr>\n",
              "    <tr>\n",
              "      <th>619857</th>\n",
              "      <td>web-biz</td>\n",
              "      <td>1</td>\n",
              "      <td>None</td>\n",
              "      <td>7</td>\n",
              "      <td>2.853986</td>\n",
              "      <td>0.00</td>\n",
              "      <td>1</td>\n",
              "      <td>1</td>\n",
              "      <td>2</td>\n",
              "      <td>0.285714</td>\n",
              "    </tr>\n",
              "  </tbody>\n",
              "</table>\n",
              "</div>\n",
              "      <button class=\"colab-df-convert\" onclick=\"convertToInteractive('df-f0e7b2c7-944f-4415-afb0-9671ae310b34')\"\n",
              "              title=\"Convert this dataframe to an interactive table.\"\n",
              "              style=\"display:none;\">\n",
              "        \n",
              "  <svg xmlns=\"http://www.w3.org/2000/svg\" height=\"24px\"viewBox=\"0 0 24 24\"\n",
              "       width=\"24px\">\n",
              "    <path d=\"M0 0h24v24H0V0z\" fill=\"none\"/>\n",
              "    <path d=\"M18.56 5.44l.94 2.06.94-2.06 2.06-.94-2.06-.94-.94-2.06-.94 2.06-2.06.94zm-11 1L8.5 8.5l.94-2.06 2.06-.94-2.06-.94L8.5 2.5l-.94 2.06-2.06.94zm10 10l.94 2.06.94-2.06 2.06-.94-2.06-.94-.94-2.06-.94 2.06-2.06.94z\"/><path d=\"M17.41 7.96l-1.37-1.37c-.4-.4-.92-.59-1.43-.59-.52 0-1.04.2-1.43.59L10.3 9.45l-7.72 7.72c-.78.78-.78 2.05 0 2.83L4 21.41c.39.39.9.59 1.41.59.51 0 1.02-.2 1.41-.59l7.78-7.78 2.81-2.81c.8-.78.8-2.07 0-2.86zM5.41 20L4 18.59l7.72-7.72 1.47 1.35L5.41 20z\"/>\n",
              "  </svg>\n",
              "      </button>\n",
              "      \n",
              "  <style>\n",
              "    .colab-df-container {\n",
              "      display:flex;\n",
              "      flex-wrap:wrap;\n",
              "      gap: 12px;\n",
              "    }\n",
              "\n",
              "    .colab-df-convert {\n",
              "      background-color: #E8F0FE;\n",
              "      border: none;\n",
              "      border-radius: 50%;\n",
              "      cursor: pointer;\n",
              "      display: none;\n",
              "      fill: #1967D2;\n",
              "      height: 32px;\n",
              "      padding: 0 0 0 0;\n",
              "      width: 32px;\n",
              "    }\n",
              "\n",
              "    .colab-df-convert:hover {\n",
              "      background-color: #E2EBFA;\n",
              "      box-shadow: 0px 1px 2px rgba(60, 64, 67, 0.3), 0px 1px 3px 1px rgba(60, 64, 67, 0.15);\n",
              "      fill: #174EA6;\n",
              "    }\n",
              "\n",
              "    [theme=dark] .colab-df-convert {\n",
              "      background-color: #3B4455;\n",
              "      fill: #D2E3FC;\n",
              "    }\n",
              "\n",
              "    [theme=dark] .colab-df-convert:hover {\n",
              "      background-color: #434B5C;\n",
              "      box-shadow: 0px 1px 3px 1px rgba(0, 0, 0, 0.15);\n",
              "      filter: drop-shadow(0px 1px 2px rgba(0, 0, 0, 0.3));\n",
              "      fill: #FFFFFF;\n",
              "    }\n",
              "  </style>\n",
              "\n",
              "      <script>\n",
              "        const buttonEl =\n",
              "          document.querySelector('#df-f0e7b2c7-944f-4415-afb0-9671ae310b34 button.colab-df-convert');\n",
              "        buttonEl.style.display =\n",
              "          google.colab.kernel.accessAllowed ? 'block' : 'none';\n",
              "\n",
              "        async function convertToInteractive(key) {\n",
              "          const element = document.querySelector('#df-f0e7b2c7-944f-4415-afb0-9671ae310b34');\n",
              "          const dataTable =\n",
              "            await google.colab.kernel.invokeFunction('convertToInteractive',\n",
              "                                                     [key], {});\n",
              "          if (!dataTable) return;\n",
              "\n",
              "          const docLinkHtml = 'Like what you see? Visit the ' +\n",
              "            '<a target=\"_blank\" href=https://colab.research.google.com/notebooks/data_table.ipynb>data table notebook</a>'\n",
              "            + ' to learn more about interactive tables.';\n",
              "          element.innerHTML = '';\n",
              "          dataTable['output_type'] = 'display_data';\n",
              "          await google.colab.output.renderOutput(dataTable, element);\n",
              "          const docLink = document.createElement('div');\n",
              "          docLink.innerHTML = docLinkHtml;\n",
              "          element.appendChild(docLink);\n",
              "        }\n",
              "      </script>\n",
              "    </div>\n",
              "  </div>\n",
              "  "
            ],
            "text/plain": [
              "                      Domain  Label  ... Vowel Count  Vowel Rate\n",
              "488740  christophermillicent      0  ...           6    0.300000\n",
              "349726            uksakaxibe      0  ...           5    0.500000\n",
              "814729                   grr      1  ...           0    0.000000\n",
              "456369  markedasentpeopleand      0  ...           8    0.400000\n",
              "174238              venkrana      0  ...           3    0.375000\n",
              "537375                   afn      1  ...           1    0.333333\n",
              "442939          9enw5urktu7g      0  ...           3    0.250000\n",
              "169475               sgyuyya      0  ...           2    0.285714\n",
              "779537          sparkscience      1  ...           4    0.333333\n",
              "619857               web-biz      1  ...           2    0.285714\n",
              "\n",
              "[10 rows x 10 columns]"
            ]
          },
          "metadata": {},
          "execution_count": 3
        }
      ],
      "source": [
        "dataset = pd.read_csv('/content/gdrive/MyDrive/dataset_7_features.csv')\n",
        "dataset.sample(10)"
      ]
    },
    {
      "cell_type": "code",
      "execution_count": null,
      "id": "e0680f4e",
      "metadata": {
        "id": "e0680f4e"
      },
      "outputs": [],
      "source": [
        "X = np.array(dataset[['Length', 'Relative Entropy', 'Numerical Percentage', 'Max Consecutive Consonants', 'Max Consecutive Vowels', 'Vowel Count', 'Vowel Rate']])\n",
        "y = np.array(dataset['Label'])"
      ]
    },
    {
      "cell_type": "code",
      "execution_count": null,
      "id": "c0449b18",
      "metadata": {
        "id": "c0449b18"
      },
      "outputs": [],
      "source": [
        "X_train, X_test, y_train, y_test = train_test_split(X, y, test_size=0.2, random_state=42)"
      ]
    },
    {
      "cell_type": "code",
      "execution_count": null,
      "id": "aec3acb5-29f7-4d05-a939-be4ed269ea0f",
      "metadata": {
        "id": "aec3acb5-29f7-4d05-a939-be4ed269ea0f",
        "outputId": "82e20a3a-738b-4453-b6b9-63da506a6090",
        "colab": {
          "base_uri": "https://localhost:8080/"
        }
      },
      "outputs": [
        {
          "output_type": "stream",
          "name": "stdout",
          "text": [
            "Training set samples - 814401\n",
            "Testing set samples - 203601\n"
          ]
        }
      ],
      "source": [
        "print(f'Training set samples - {X_train.shape[0]}')\n",
        "print(f'Testing set samples - {X_test.shape[0]}')"
      ]
    },
    {
      "cell_type": "code",
      "execution_count": null,
      "id": "b070879d-daff-4d8d-99e8-9a82712b87f1",
      "metadata": {
        "id": "b070879d-daff-4d8d-99e8-9a82712b87f1"
      },
      "outputs": [],
      "source": [
        "def metrics_report(y_test, predictions):\n",
        "    print(\"Accuracy :\", accuracy_score(y_test, predictions))\n",
        "\n",
        "    precision = precision_score(y_test, predictions, average='macro')\n",
        "    recall = recall_score(y_test, predictions, average='macro')\n",
        "    f1 = f1_score(y_test, predictions, average='macro')\n",
        "\n",
        "    print(\"Macro-average quality numbers\")\n",
        "    print(\"Precision: {:.4f}, Recall: {:.4f}, F1-measure: {:.4f}\".format(precision, recall, f1))\n",
        "\n",
        "    print(classification_report(y_test, predictions))\n",
        "    print(confusion_matrix(y_test, predictions))"
      ]
    },
    {
      "cell_type": "markdown",
      "id": "5a04471f-afeb-45fc-bc7e-bde8a80217d3",
      "metadata": {
        "id": "5a04471f-afeb-45fc-bc7e-bde8a80217d3"
      },
      "source": [
        "## Decision Tree"
      ]
    },
    {
      "cell_type": "code",
      "execution_count": null,
      "id": "c17fa6ef-3d3e-4a6a-9870-b038eb44d518",
      "metadata": {
        "id": "c17fa6ef-3d3e-4a6a-9870-b038eb44d518"
      },
      "outputs": [],
      "source": [
        "param_dist_DT = {\n",
        "    \"max_depth\": [2, 4, 8, 12, 16, 20],\n",
        "    \"criterion\": [\"gini\", \"entropy\"],\n",
        "    \"splitter\": [\"best\", \"random\"]\n",
        "}"
      ]
    },
    {
      "cell_type": "code",
      "execution_count": null,
      "id": "a0e5877e-8da9-4ff8-98a8-84c37406c8e5",
      "metadata": {
        "id": "a0e5877e-8da9-4ff8-98a8-84c37406c8e5",
        "outputId": "4b888caf-d887-46bf-ea0b-5e9b2fd28826",
        "colab": {
          "base_uri": "https://localhost:8080/"
        }
      },
      "outputs": [
        {
          "output_type": "stream",
          "name": "stderr",
          "text": [
            "/usr/local/lib/python3.7/dist-packages/sklearn/model_selection/_search.py:296: UserWarning: The total space of parameters 24 is smaller than n_iter=50. Running 24 iterations. For exhaustive searches, use GridSearchCV.\n",
            "  UserWarning,\n"
          ]
        },
        {
          "output_type": "stream",
          "name": "stdout",
          "text": [
            "Fitting 5 folds for each of 24 candidates, totalling 120 fits\n"
          ]
        },
        {
          "output_type": "execute_result",
          "data": {
            "text/plain": [
              "RandomizedSearchCV(cv=5, estimator=DecisionTreeClassifier(), n_iter=50,\n",
              "                   n_jobs=-1,\n",
              "                   param_distributions={'criterion': ['gini', 'entropy'],\n",
              "                                        'max_depth': [2, 4, 8, 12, 16, 20],\n",
              "                                        'splitter': ['best', 'random']},\n",
              "                   random_state=42, scoring='accuracy', verbose=2)"
            ]
          },
          "metadata": {},
          "execution_count": 9
        }
      ],
      "source": [
        "DecisionTree_grid = RandomizedSearchCV(DecisionTreeClassifier(), param_dist_DT, cv=5, verbose=2, \\\n",
        "                                       scoring='accuracy', n_iter=50, n_jobs=-1, random_state=42)\n",
        "DecisionTree_grid.fit(X_train, y_train)"
      ]
    },
    {
      "cell_type": "code",
      "execution_count": null,
      "id": "e184b0ea-3fcb-4488-a158-5f7126f9a30c",
      "metadata": {
        "id": "e184b0ea-3fcb-4488-a158-5f7126f9a30c",
        "outputId": "6aeb2c9e-b209-455a-ba5e-6adc3afc43e8",
        "colab": {
          "base_uri": "https://localhost:8080/"
        }
      },
      "outputs": [
        {
          "output_type": "stream",
          "name": "stdout",
          "text": [
            "Best score: 0.7952814393471223\n",
            "Parameters: {'splitter': 'best', 'max_depth': 12, 'criterion': 'gini'}\n"
          ]
        }
      ],
      "source": [
        "print(f'Best score: {DecisionTree_grid.best_score_}')\n",
        "print(f'Parameters: {DecisionTree_grid.best_params_}')"
      ]
    },
    {
      "cell_type": "code",
      "execution_count": null,
      "id": "2257b741-2830-416b-a19a-feca29495243",
      "metadata": {
        "id": "2257b741-2830-416b-a19a-feca29495243",
        "outputId": "5a9cfdcd-51f9-439e-bcf3-320de62d4cdb",
        "colab": {
          "base_uri": "https://localhost:8080/"
        }
      },
      "outputs": [
        {
          "output_type": "execute_result",
          "data": {
            "text/plain": [
              "DecisionTreeClassifier(max_depth=12)"
            ]
          },
          "metadata": {},
          "execution_count": 12
        }
      ],
      "source": [
        "DecisionTree_clf = DecisionTreeClassifier(max_depth=12, criterion='gini', splitter='best')\n",
        "DecisionTree_clf.fit(X_train, y_train)"
      ]
    },
    {
      "cell_type": "code",
      "execution_count": null,
      "id": "ae4aeec9-9d4b-420a-ae43-50e2cb5d5d57",
      "metadata": {
        "id": "ae4aeec9-9d4b-420a-ae43-50e2cb5d5d57",
        "outputId": "ea28c657-b8e2-4425-e9e5-8d9081f9db5b",
        "colab": {
          "base_uri": "https://localhost:8080/"
        }
      },
      "outputs": [
        {
          "output_type": "stream",
          "name": "stdout",
          "text": [
            "Accuracy : 0.7938517001389973\n",
            "Macro-average quality numbers\n",
            "Precision: 0.8019, Recall: 0.7939, F1-measure: 0.7925\n",
            "              precision    recall  f1-score   support\n",
            "\n",
            "           0       0.85      0.71      0.78    101844\n",
            "           1       0.75      0.88      0.81    101757\n",
            "\n",
            "    accuracy                           0.79    203601\n",
            "   macro avg       0.80      0.79      0.79    203601\n",
            "weighted avg       0.80      0.79      0.79    203601\n",
            "\n",
            "[[72539 29305]\n",
            " [12667 89090]]\n"
          ]
        }
      ],
      "source": [
        "preds = DecisionTree_clf.predict(X_test)\n",
        "metrics_report(y_test, preds)"
      ]
    },
    {
      "cell_type": "code",
      "source": [
        "dump(DecisionTree_grid, '/content/gdrive/MyDrive/Models_DGA/DecisonTree_grid.joblib')\n",
        "dump(DecisionTree_clf, '/content/gdrive/MyDrive/Models_DGA/DecisonTree_clf.joblib')"
      ],
      "metadata": {
        "colab": {
          "base_uri": "https://localhost:8080/"
        },
        "id": "zThDusxqU2NE",
        "outputId": "0e538eff-902c-407b-d69a-06ac2a4072a2"
      },
      "id": "zThDusxqU2NE",
      "execution_count": null,
      "outputs": [
        {
          "output_type": "execute_result",
          "data": {
            "text/plain": [
              "['/content/gdrive/MyDrive/Models_DGA/DecisonTree_clf.joblib']"
            ]
          },
          "metadata": {},
          "execution_count": 23
        }
      ]
    },
    {
      "cell_type": "markdown",
      "id": "90ae2823-b97c-4971-908c-9e33842e7975",
      "metadata": {
        "id": "90ae2823-b97c-4971-908c-9e33842e7975"
      },
      "source": [
        "## Random Forest"
      ]
    },
    {
      "cell_type": "code",
      "execution_count": null,
      "id": "e521cee7-12cd-40d4-97d8-88acde158947",
      "metadata": {
        "id": "e521cee7-12cd-40d4-97d8-88acde158947"
      },
      "outputs": [],
      "source": [
        "param_dist_RF = {\n",
        "    \"max_depth\": [8, 12],\n",
        "    \"n_estimators\": [100, 200]\n",
        "}"
      ]
    },
    {
      "cell_type": "code",
      "execution_count": null,
      "id": "c83cfe8b-5fb5-46f8-9c62-9521f4e9cc61",
      "metadata": {
        "id": "c83cfe8b-5fb5-46f8-9c62-9521f4e9cc61"
      },
      "outputs": [],
      "source": [
        "RandomForest_grid = RandomizedSearchCV(RandomForestClassifier(verbose=1, n_jobs=-1), param_dist_RF, cv=5, verbose=2,\\\n",
        "                                       scoring='accuracy', n_iter=50, n_jobs=-1, random_state=42)\n",
        "RandomForest_grid.fit(X_train, y_train)"
      ]
    },
    {
      "cell_type": "code",
      "execution_count": null,
      "id": "3483c2b0-55f4-4863-85fb-995c5c3a1831",
      "metadata": {
        "id": "3483c2b0-55f4-4863-85fb-995c5c3a1831"
      },
      "outputs": [],
      "source": [
        "print(f'Best score: {RandomForest_grid.best_score_}')\n",
        "print(f'Parameters: {RandomForest_grid.best_params_}')"
      ]
    },
    {
      "cell_type": "code",
      "execution_count": null,
      "id": "52c75a27-466c-4b31-897e-e0f45096d14f",
      "metadata": {
        "id": "52c75a27-466c-4b31-897e-e0f45096d14f",
        "outputId": "441632a4-4906-436e-9ac6-a8215f479d3b",
        "colab": {
          "base_uri": "https://localhost:8080/"
        }
      },
      "outputs": [
        {
          "output_type": "execute_result",
          "data": {
            "text/plain": [
              "RandomForestClassifier(max_depth=12, n_estimators=200, n_jobs=-1)"
            ]
          },
          "metadata": {},
          "execution_count": 39
        }
      ],
      "source": [
        "RandomForest_clf = RandomForestClassifier(max_depth=12, n_estimators=200, n_jobs=-1)\n",
        "RandomForest_clf.fit(X_train, y_train)"
      ]
    },
    {
      "cell_type": "code",
      "execution_count": null,
      "id": "fe23ce25-51ea-4705-b38e-e3a993913cdc",
      "metadata": {
        "id": "fe23ce25-51ea-4705-b38e-e3a993913cdc",
        "outputId": "4feb3ca8-1624-49a1-a6bb-62d586fc7b30",
        "colab": {
          "base_uri": "https://localhost:8080/"
        }
      },
      "outputs": [
        {
          "output_type": "stream",
          "name": "stdout",
          "text": [
            "Accuracy : 0.7948634829887868\n",
            "Macro-average quality numbers\n",
            "Precision: 0.8065, Recall: 0.7949, F1-measure: 0.7929\n",
            "              precision    recall  f1-score   support\n",
            "\n",
            "           0       0.87      0.70      0.77    101844\n",
            "           1       0.75      0.89      0.81    101757\n",
            "\n",
            "    accuracy                           0.79    203601\n",
            "   macro avg       0.81      0.79      0.79    203601\n",
            "weighted avg       0.81      0.79      0.79    203601\n",
            "\n",
            "[[71056 30788]\n",
            " [10978 90779]]\n"
          ]
        }
      ],
      "source": [
        "preds = RandomForest_clf.predict(X_test)\n",
        "metrics_report(y_test, preds)"
      ]
    },
    {
      "cell_type": "code",
      "source": [
        "#dump(RandomForest_grid, '/content/gdrive/MyDrive/Models_DGA/RandomForest_grid.joblib')\n",
        "dump(RandomForest_clf, '/content/gdrive/MyDrive/Models_DGA/RandomForest_clf.joblib')"
      ],
      "metadata": {
        "colab": {
          "base_uri": "https://localhost:8080/"
        },
        "id": "NlngMQRCV5he",
        "outputId": "e58e369d-67fd-481e-d382-d1aafdecd3b2"
      },
      "id": "NlngMQRCV5he",
      "execution_count": null,
      "outputs": [
        {
          "output_type": "execute_result",
          "data": {
            "text/plain": [
              "['/content/gdrive/MyDrive/Models_DGA/RandomForest_clf.joblib']"
            ]
          },
          "metadata": {},
          "execution_count": 38
        }
      ]
    },
    {
      "cell_type": "markdown",
      "id": "0a909d1f-1a6e-4c68-86a1-03ffbaf5be96",
      "metadata": {
        "id": "0a909d1f-1a6e-4c68-86a1-03ffbaf5be96"
      },
      "source": [
        "## Gradient Boosting"
      ]
    },
    {
      "cell_type": "code",
      "execution_count": null,
      "id": "f7051814-f949-4271-9c08-cd63acda1cb1",
      "metadata": {
        "id": "f7051814-f949-4271-9c08-cd63acda1cb1"
      },
      "outputs": [],
      "source": [
        "param_dist_GB = {\n",
        "    \"loss\": [\"deviance\", \"exponential\"],\n",
        "    \"learning_rate\": [0.1, 0.4, 1],\n",
        "    \"n_estimators\": [80, 100, 200]\n",
        "}"
      ]
    },
    {
      "cell_type": "code",
      "execution_count": null,
      "id": "5b31b56f-992f-4948-9037-b630cb04a216",
      "metadata": {
        "id": "5b31b56f-992f-4948-9037-b630cb04a216",
        "colab": {
          "base_uri": "https://localhost:8080/"
        },
        "outputId": "3dd7e245-8396-4c64-da96-3a95c5a30a91"
      },
      "outputs": [
        {
          "output_type": "stream",
          "name": "stderr",
          "text": [
            "/usr/local/lib/python3.7/dist-packages/sklearn/model_selection/_search.py:296: UserWarning: The total space of parameters 18 is smaller than n_iter=50. Running 18 iterations. For exhaustive searches, use GridSearchCV.\n",
            "  UserWarning,\n"
          ]
        },
        {
          "output_type": "stream",
          "name": "stdout",
          "text": [
            "Fitting 5 folds for each of 18 candidates, totalling 90 fits\n",
            "      Iter       Train Loss   Remaining Time \n",
            "         1           1.1594            4.99m\n",
            "         2           1.0575            4.88m\n",
            "         3           0.9980            4.89m\n",
            "         4           0.9692            4.86m\n",
            "         5           0.9418            4.86m\n",
            "         6           0.9256            4.84m\n",
            "         7           0.9132            4.84m\n",
            "         8           0.9001            4.82m\n",
            "         9           0.8914            4.81m\n",
            "        10           0.8864            4.79m\n",
            "        20           0.8582            4.50m\n",
            "        30           0.8459            4.25m\n",
            "        40           0.8386            3.99m\n",
            "        50           0.8333            3.74m\n",
            "        60           0.8311            3.48m\n",
            "        70           0.8280            3.22m\n",
            "        80           0.8245            2.97m\n",
            "        90           0.8236            2.72m\n",
            "       100           0.8220            2.47m\n",
            "       200           0.8122            0.00s\n"
          ]
        },
        {
          "output_type": "execute_result",
          "data": {
            "text/plain": [
              "RandomizedSearchCV(cv=5, estimator=GradientBoostingClassifier(verbose=1),\n",
              "                   n_iter=50, n_jobs=-1,\n",
              "                   param_distributions={'learning_rate': [0.1, 0.4, 1],\n",
              "                                        'loss': ['deviance', 'exponential'],\n",
              "                                        'n_estimators': [80, 100, 200]},\n",
              "                   random_state=42, scoring='accuracy', verbose=2)"
            ]
          },
          "metadata": {},
          "execution_count": 18
        }
      ],
      "source": [
        "GradientBoost_grid = RandomizedSearchCV(GradientBoostingClassifier(verbose=1), param_dist_GB, cv=5, verbose=2, \\\n",
        "                                       scoring='accuracy', n_iter=50, n_jobs=-1, random_state=42)\n",
        "GradientBoost_grid.fit(X_train, y_train)"
      ]
    },
    {
      "cell_type": "code",
      "execution_count": null,
      "id": "1a7b137c-3855-45e9-868f-ad8e5d249825",
      "metadata": {
        "id": "1a7b137c-3855-45e9-868f-ad8e5d249825",
        "colab": {
          "base_uri": "https://localhost:8080/"
        },
        "outputId": "634d85f0-9798-4732-bc01-854b925bafbc"
      },
      "outputs": [
        {
          "output_type": "stream",
          "name": "stdout",
          "text": [
            "Best score: 0.796417243197147\n",
            "Parameters: {'n_estimators': 200, 'loss': 'deviance', 'learning_rate': 0.4}\n"
          ]
        }
      ],
      "source": [
        "print(f'Best score: {GradientBoost_grid.best_score_}')\n",
        "print(f'Parameters: {GradientBoost_grid.best_params_}')"
      ]
    },
    {
      "cell_type": "code",
      "execution_count": null,
      "id": "4ca3e32a-8cb9-4412-aacd-4f7e638f571b",
      "metadata": {
        "id": "4ca3e32a-8cb9-4412-aacd-4f7e638f571b",
        "colab": {
          "base_uri": "https://localhost:8080/"
        },
        "outputId": "7320518c-5bf5-477f-a4d0-02057e76248a"
      },
      "outputs": [
        {
          "output_type": "execute_result",
          "data": {
            "text/plain": [
              "GradientBoostingClassifier(learning_rate=0.4, n_estimators=200, random_state=42)"
            ]
          },
          "metadata": {},
          "execution_count": 20
        }
      ],
      "source": [
        "GradientBoost_clf = GradientBoostingClassifier(n_estimators=200, learning_rate=0.4, loss='deviance', random_state=42)\n",
        "GradientBoost_clf.fit(X_train, y_train)"
      ]
    },
    {
      "cell_type": "code",
      "execution_count": null,
      "id": "df054ce7-3027-4c22-8091-991efe2da1bc",
      "metadata": {
        "id": "df054ce7-3027-4c22-8091-991efe2da1bc",
        "colab": {
          "base_uri": "https://localhost:8080/"
        },
        "outputId": "baebfcf7-cb92-4c29-9e66-f3d8ee7d2c22"
      },
      "outputs": [
        {
          "output_type": "stream",
          "name": "stdout",
          "text": [
            "Accuracy : 0.7958556195696485\n",
            "Macro-average quality numbers\n",
            "Precision: 0.8026, Recall: 0.7959, F1-measure: 0.7947\n",
            "              precision    recall  f1-score   support\n",
            "\n",
            "           0       0.85      0.72      0.78    101844\n",
            "           1       0.76      0.87      0.81    101757\n",
            "\n",
            "    accuracy                           0.80    203601\n",
            "   macro avg       0.80      0.80      0.79    203601\n",
            "weighted avg       0.80      0.80      0.79    203601\n",
            "\n",
            "[[73472 28372]\n",
            " [13192 88565]]\n"
          ]
        }
      ],
      "source": [
        "preds = GradientBoost_clf.predict(X_test)\n",
        "metrics_report(y_test, preds)"
      ]
    },
    {
      "cell_type": "code",
      "source": [
        "dump(GradientBoost_grid, '/content/gdrive/MyDrive/Models_DGA/GradientBoost_grid.joblib')\n",
        "dump(GradientBoost_clf, '/content/gdrive/MyDrive/Models_DGA/GradientBoost_clf.joblib')"
      ],
      "metadata": {
        "colab": {
          "base_uri": "https://localhost:8080/"
        },
        "id": "MyU7fxmEWB_K",
        "outputId": "8315ccb3-11ab-4d8a-9d36-90f506bff5e3"
      },
      "id": "MyU7fxmEWB_K",
      "execution_count": null,
      "outputs": [
        {
          "output_type": "execute_result",
          "data": {
            "text/plain": [
              "['/content/gdrive/MyDrive/Models_DGA/GradientBoost_clf.joblib']"
            ]
          },
          "metadata": {},
          "execution_count": 22
        }
      ]
    },
    {
      "cell_type": "markdown",
      "id": "533ab58e-fd6e-4847-9b20-151a74d28e24",
      "metadata": {
        "id": "533ab58e-fd6e-4847-9b20-151a74d28e24"
      },
      "source": [
        "## Gaussian Naive Bayes"
      ]
    },
    {
      "cell_type": "code",
      "execution_count": null,
      "id": "6cf15025-4884-48d8-a34f-a12fc20e8bd5",
      "metadata": {
        "id": "6cf15025-4884-48d8-a34f-a12fc20e8bd5"
      },
      "outputs": [],
      "source": [
        "param_dist_NB = {\n",
        "    \"var_smoothing\": [1e-9, 2e-9, 3e-9]\n",
        "}"
      ]
    },
    {
      "cell_type": "code",
      "execution_count": null,
      "id": "992ec53d-fdb2-430b-beaa-1b8807460432",
      "metadata": {
        "id": "992ec53d-fdb2-430b-beaa-1b8807460432",
        "outputId": "ec71e99b-cc9c-4e89-9960-5081cfdae5a6",
        "colab": {
          "base_uri": "https://localhost:8080/"
        }
      },
      "outputs": [
        {
          "output_type": "stream",
          "name": "stdout",
          "text": [
            "Fitting 5 folds for each of 3 candidates, totalling 15 fits\n"
          ]
        },
        {
          "output_type": "stream",
          "name": "stderr",
          "text": [
            "/usr/local/lib/python3.7/dist-packages/sklearn/model_selection/_search.py:296: UserWarning: The total space of parameters 3 is smaller than n_iter=50. Running 3 iterations. For exhaustive searches, use GridSearchCV.\n",
            "  UserWarning,\n"
          ]
        },
        {
          "output_type": "execute_result",
          "data": {
            "text/plain": [
              "RandomizedSearchCV(cv=5, estimator=GaussianNB(), n_iter=50, n_jobs=-1,\n",
              "                   param_distributions={'var_smoothing': [1e-09, 2e-09, 3e-09]},\n",
              "                   random_state=42, scoring='accuracy', verbose=2)"
            ]
          },
          "metadata": {},
          "execution_count": 25
        }
      ],
      "source": [
        "GaussianNB_grid = RandomizedSearchCV(GaussianNB(), param_dist_NB, cv=5, verbose=2, \\\n",
        "                                       scoring='accuracy', n_iter=50, n_jobs=-1, random_state=42)\n",
        "GaussianNB_grid.fit(X_train, y_train)"
      ]
    },
    {
      "cell_type": "code",
      "execution_count": null,
      "id": "3d9cd5db-66e4-4b07-b21f-f38b4d06ffe7",
      "metadata": {
        "id": "3d9cd5db-66e4-4b07-b21f-f38b4d06ffe7",
        "outputId": "4705e8bd-9c3d-49d1-f05a-d33e7d4d5ffc",
        "colab": {
          "base_uri": "https://localhost:8080/"
        }
      },
      "outputs": [
        {
          "output_type": "stream",
          "name": "stdout",
          "text": [
            "Best score: 0.7405135810773492\n",
            "Parameters: {'var_smoothing': 1e-09}\n"
          ]
        }
      ],
      "source": [
        "print(f'Best score: {GaussianNB_grid.best_score_}')\n",
        "print(f'Parameters: {GaussianNB_grid.best_params_}')"
      ]
    },
    {
      "cell_type": "code",
      "execution_count": null,
      "id": "d10092dd-a1b1-4ec0-b055-8ed340a82728",
      "metadata": {
        "id": "d10092dd-a1b1-4ec0-b055-8ed340a82728",
        "outputId": "61df3b3f-d510-44be-b98f-a513bcce7fb5",
        "colab": {
          "base_uri": "https://localhost:8080/"
        }
      },
      "outputs": [
        {
          "output_type": "execute_result",
          "data": {
            "text/plain": [
              "GaussianNB()"
            ]
          },
          "metadata": {},
          "execution_count": 27
        }
      ],
      "source": [
        "GaussianNB_clf = GaussianNB(var_smoothing=1e-09)\n",
        "GaussianNB_clf.fit(X_train, y_train)"
      ]
    },
    {
      "cell_type": "code",
      "execution_count": null,
      "id": "ee118b5a-3ebc-48dc-aa1d-960f4f4864c5",
      "metadata": {
        "id": "ee118b5a-3ebc-48dc-aa1d-960f4f4864c5",
        "outputId": "9d16a9fe-c005-4a42-b322-55338b7f9a60",
        "colab": {
          "base_uri": "https://localhost:8080/"
        }
      },
      "outputs": [
        {
          "output_type": "stream",
          "name": "stdout",
          "text": [
            "Accuracy : 0.7399226919317685\n",
            "Macro-average quality numbers\n",
            "Precision: 0.7554, Recall: 0.7400, F1-measure: 0.7360\n",
            "              precision    recall  f1-score   support\n",
            "\n",
            "           0       0.82      0.62      0.70    101844\n",
            "           1       0.69      0.86      0.77    101757\n",
            "\n",
            "    accuracy                           0.74    203601\n",
            "   macro avg       0.76      0.74      0.74    203601\n",
            "weighted avg       0.76      0.74      0.74    203601\n",
            "\n",
            "[[62846 38998]\n",
            " [13954 87803]]\n"
          ]
        }
      ],
      "source": [
        "preds = GaussianNB_clf.predict(X_test)\n",
        "metrics_report(y_test, preds)"
      ]
    },
    {
      "cell_type": "code",
      "source": [
        "dump(GaussianNB_grid, '/content/gdrive/MyDrive/Models_DGA/GaussianNB_grid.joblib')\n",
        "dump(GaussianNB_clf, '/content/gdrive/MyDrive/Models_DGA/GaussianNB_clf.joblib')"
      ],
      "metadata": {
        "colab": {
          "base_uri": "https://localhost:8080/"
        },
        "id": "sTzFNkbUWIRS",
        "outputId": "fd5f6ee7-cf82-4ab7-8d87-a49aacddb7b4"
      },
      "id": "sTzFNkbUWIRS",
      "execution_count": null,
      "outputs": [
        {
          "output_type": "execute_result",
          "data": {
            "text/plain": [
              "['/content/gdrive/MyDrive/Models_DGA/GaussianNB_clf.joblib']"
            ]
          },
          "metadata": {},
          "execution_count": 29
        }
      ]
    },
    {
      "cell_type": "markdown",
      "id": "004f5be2-0197-450a-94a5-4dbdf0c7c6ce",
      "metadata": {
        "id": "004f5be2-0197-450a-94a5-4dbdf0c7c6ce"
      },
      "source": [
        "## Logistic Regression"
      ]
    },
    {
      "cell_type": "code",
      "execution_count": null,
      "id": "c98ed51e-c514-4c53-a997-72f74fd3d2b8",
      "metadata": {
        "id": "c98ed51e-c514-4c53-a997-72f74fd3d2b8"
      },
      "outputs": [],
      "source": [
        "param_dist_LR = {\n",
        "    \"solver\": [\"lbfgs\", \"sag\"],\n",
        "    \"max_iter\": [100, 200, 400]\n",
        "}"
      ]
    },
    {
      "cell_type": "code",
      "execution_count": null,
      "id": "34518d47-46c9-4617-90a0-589bf024c2ae",
      "metadata": {
        "id": "34518d47-46c9-4617-90a0-589bf024c2ae",
        "outputId": "cfb1a0f6-0d82-4e7c-d944-271d123d3c1d",
        "colab": {
          "base_uri": "https://localhost:8080/"
        }
      },
      "outputs": [
        {
          "output_type": "stream",
          "name": "stderr",
          "text": [
            "/usr/local/lib/python3.7/dist-packages/sklearn/model_selection/_search.py:296: UserWarning: The total space of parameters 6 is smaller than n_iter=50. Running 6 iterations. For exhaustive searches, use GridSearchCV.\n",
            "  UserWarning,\n"
          ]
        },
        {
          "output_type": "stream",
          "name": "stdout",
          "text": [
            "Fitting 5 folds for each of 6 candidates, totalling 30 fits\n"
          ]
        },
        {
          "output_type": "stream",
          "name": "stderr",
          "text": [
            "[Parallel(n_jobs=-1)]: Using backend ThreadingBackend with 2 concurrent workers.\n"
          ]
        },
        {
          "output_type": "stream",
          "name": "stdout",
          "text": [
            "convergence after 28 epochs took 12 seconds\n"
          ]
        },
        {
          "output_type": "stream",
          "name": "stderr",
          "text": [
            "[Parallel(n_jobs=-1)]: Done   1 out of   1 | elapsed:   12.4s finished\n"
          ]
        },
        {
          "output_type": "execute_result",
          "data": {
            "text/plain": [
              "RandomizedSearchCV(cv=5, estimator=LogisticRegression(n_jobs=-1, verbose=1),\n",
              "                   n_iter=50, n_jobs=-1,\n",
              "                   param_distributions={'max_iter': [100, 200, 400],\n",
              "                                        'solver': ['lbfgs', 'sag']},\n",
              "                   random_state=42, scoring='accuracy', verbose=2)"
            ]
          },
          "metadata": {},
          "execution_count": 31
        }
      ],
      "source": [
        "LogisticRegression_grid = RandomizedSearchCV(LogisticRegression(verbose=1, n_jobs=-1), param_dist_LR, cv=5, verbose=2, \\\n",
        "                                       scoring='accuracy', n_iter=50, n_jobs=-1, random_state=42)\n",
        "LogisticRegression_grid.fit(X_train, y_train)"
      ]
    },
    {
      "cell_type": "code",
      "execution_count": null,
      "id": "f3db1ed0-d1e3-49d2-8f26-c37428b5f7f2",
      "metadata": {
        "id": "f3db1ed0-d1e3-49d2-8f26-c37428b5f7f2",
        "outputId": "cc29aca5-2273-41a9-a2d0-c7758f7a1993",
        "colab": {
          "base_uri": "https://localhost:8080/"
        }
      },
      "outputs": [
        {
          "output_type": "stream",
          "name": "stdout",
          "text": [
            "Best score: 0.7598750501604647\n",
            "Parameters: {'solver': 'sag', 'max_iter': 100}\n"
          ]
        }
      ],
      "source": [
        "print(f'Best score: {LogisticRegression_grid.best_score_}')\n",
        "print(f'Parameters: {LogisticRegression_grid.best_params_}')"
      ]
    },
    {
      "cell_type": "code",
      "execution_count": null,
      "id": "7dbad790-adc4-4734-ad72-5d16ff8ad47a",
      "metadata": {
        "id": "7dbad790-adc4-4734-ad72-5d16ff8ad47a",
        "outputId": "3917faa8-a7fd-4933-9276-1a4baf8407b5",
        "colab": {
          "base_uri": "https://localhost:8080/"
        }
      },
      "outputs": [
        {
          "output_type": "execute_result",
          "data": {
            "text/plain": [
              "LogisticRegression(solver='sag')"
            ]
          },
          "metadata": {},
          "execution_count": 33
        }
      ],
      "source": [
        "LogisticRegression_clf = LogisticRegression(max_iter=100, solver='sag')\n",
        "LogisticRegression_clf.fit(X_train, y_train)"
      ]
    },
    {
      "cell_type": "code",
      "execution_count": null,
      "id": "df7d50ad-6b5d-4418-9c36-15e86a798ba0",
      "metadata": {
        "id": "df7d50ad-6b5d-4418-9c36-15e86a798ba0",
        "outputId": "4a7d29bb-9ace-4161-c5f5-858067374f30",
        "colab": {
          "base_uri": "https://localhost:8080/"
        }
      },
      "outputs": [
        {
          "output_type": "stream",
          "name": "stdout",
          "text": [
            "Accuracy : 0.7589058992834024\n",
            "Macro-average quality numbers\n",
            "Precision: 0.7644, Recall: 0.7589, F1-measure: 0.7577\n",
            "              precision    recall  f1-score   support\n",
            "\n",
            "           0       0.80      0.69      0.74    101844\n",
            "           1       0.73      0.83      0.77    101757\n",
            "\n",
            "    accuracy                           0.76    203601\n",
            "   macro avg       0.76      0.76      0.76    203601\n",
            "weighted avg       0.76      0.76      0.76    203601\n",
            "\n",
            "[[69978 31866]\n",
            " [17221 84536]]\n"
          ]
        }
      ],
      "source": [
        "preds = LogisticRegression_clf.predict(X_test)\n",
        "metrics_report(y_test, preds)"
      ]
    },
    {
      "cell_type": "code",
      "source": [
        "dump(LogisticRegression_grid, '/content/gdrive/MyDrive/Models_DGA/LogisticRegression_grid.joblib')\n",
        "dump(LogisticRegression_clf, '/content/gdrive/MyDrive/Models_DGA/LogisticRegression_clf.joblib')"
      ],
      "metadata": {
        "colab": {
          "base_uri": "https://localhost:8080/"
        },
        "id": "xlIAILx9WKQL",
        "outputId": "dd2b84d2-df0b-4f16-c955-34ce6fd9f70e"
      },
      "id": "xlIAILx9WKQL",
      "execution_count": null,
      "outputs": [
        {
          "output_type": "execute_result",
          "data": {
            "text/plain": [
              "['/content/gdrive/MyDrive/Models_DGA/LogisticRegression_clf.joblib']"
            ]
          },
          "metadata": {},
          "execution_count": 35
        }
      ]
    },
    {
      "cell_type": "code",
      "source": [
        ""
      ],
      "metadata": {
        "id": "E8gCExeSTqF_"
      },
      "id": "E8gCExeSTqF_",
      "execution_count": null,
      "outputs": []
    }
  ],
  "metadata": {
    "kernelspec": {
      "display_name": "Python 3",
      "language": "python",
      "name": "python3"
    },
    "language_info": {
      "codemirror_mode": {
        "name": "ipython",
        "version": 3
      },
      "file_extension": ".py",
      "mimetype": "text/x-python",
      "name": "python",
      "nbconvert_exporter": "python",
      "pygments_lexer": "ipython3",
      "version": "3.8.10"
    },
    "toc-autonumbering": false,
    "toc-showcode": false,
    "toc-showmarkdowntxt": false,
    "toc-showtags": false,
    "colab": {
      "name": "ClassifierTraining.ipynb",
      "provenance": []
    }
  },
  "nbformat": 4,
  "nbformat_minor": 5
}